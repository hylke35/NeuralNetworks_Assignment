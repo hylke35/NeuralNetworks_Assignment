{
 "cells": [
  {
   "cell_type": "code",
   "execution_count": null,
   "metadata": {},
   "outputs": [],
   "source": [
    "import yfinance as yf\n",
    "import pandas as pd\n",
    "import datetime\n",
    "import tensorflow as tf\n",
    "import keras"
   ]
  },
  {
   "cell_type": "code",
   "execution_count": null,
   "metadata": {},
   "outputs": [],
   "source": [
    "start = pd.to_datetime('2004-08-01')\n",
    "stock = ['GOOG']\n",
    "data = yf.download(stock, start=start, end=datetime.date.today())\n",
    "dates = data.index\n",
    "columns = data.columns\n",
    "print(data.head())"
   ]
  },
  {
   "cell_type": "code",
   "execution_count": null,
   "metadata": {},
   "outputs": [],
   "source": [
    "from sklearn.preprocessing import MinMaxScaler\n",
    "from sklearn.model_selection import train_test_split\n",
    "\n",
    "min_max = MinMaxScaler(feature_range=(0, 1))\n",
    "data = min_max.fit_transform(data)\n",
    "\n",
    "# data = pd.DataFrame(data, dates, columns)"
   ]
  },
  {
   "cell_type": "code",
   "execution_count": null,
   "metadata": {},
   "outputs": [],
   "source": [
    "x_train = []\n",
    "y_train = []\n",
    "\n",
    "#time step: number of preceeding data points to be taken into account\n",
    "time_step = 3\n",
    "\n",
    "#iterate over the data\n",
    "for i in range(time_step, data.shape[0]):\n",
    "    #create a partition of the 3 preceeding data points\n",
    "    x_train.append(data[i - time_step:i])\n",
    "\n",
    "    #append the next days close price to the label array\n",
    "    y_train.append(data[i, 3])"
   ]
  }
 ],
 "metadata": {
  "language_info": {
   "name": "python"
  },
  "orig_nbformat": 4
 },
 "nbformat": 4,
 "nbformat_minor": 2
}
